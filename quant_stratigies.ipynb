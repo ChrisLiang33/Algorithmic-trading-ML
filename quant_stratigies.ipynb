{
 "cells": [
  {
   "cell_type": "code",
   "execution_count": 5,
   "metadata": {},
   "outputs": [
    {
     "name": "stdout",
     "output_type": "stream",
     "text": [
      "Requirement already satisfied: pandas in /Users/chrisliang8/.pyenv/versions/3.10.12/lib/python3.10/site-packages (2.1.2)\n",
      "Requirement already satisfied: numpy in /Users/chrisliang8/.pyenv/versions/3.10.12/lib/python3.10/site-packages (1.26.1)\n",
      "Requirement already satisfied: matplotlib in /Users/chrisliang8/.pyenv/versions/3.10.12/lib/python3.10/site-packages (3.8.0)\n",
      "Requirement already satisfied: statsmodels in /Users/chrisliang8/.pyenv/versions/3.10.12/lib/python3.10/site-packages (0.14.0)\n",
      "Requirement already satisfied: pandas_datareader in /Users/chrisliang8/.pyenv/versions/3.10.12/lib/python3.10/site-packages (0.10.0)\n",
      "Requirement already satisfied: datetime in /Users/chrisliang8/.pyenv/versions/3.10.12/lib/python3.10/site-packages (5.2)\n",
      "Requirement already satisfied: yfinance in /Users/chrisliang8/.pyenv/versions/3.10.12/lib/python3.10/site-packages (0.2.31)\n",
      "Requirement already satisfied: sklearn in /Users/chrisliang8/.pyenv/versions/3.10.12/lib/python3.10/site-packages (0.0.post10)\n",
      "Collecting PyPortfolioOpt\n",
      "  Downloading pyportfolioopt-1.5.5-py3-none-any.whl (61 kB)\n",
      "\u001b[2K     \u001b[90m━━━━━━━━━━━━━━━━━━━━━━━━━━━━━━━━━━━━━━━━\u001b[0m \u001b[32m61.9/61.9 kB\u001b[0m \u001b[31m1.7 MB/s\u001b[0m eta \u001b[36m0:00:00\u001b[0m\n",
      "\u001b[?25hRequirement already satisfied: python-dateutil>=2.8.2 in /Users/chrisliang8/.pyenv/versions/3.10.12/lib/python3.10/site-packages (from pandas) (2.8.2)\n",
      "Requirement already satisfied: pytz>=2020.1 in /Users/chrisliang8/.pyenv/versions/3.10.12/lib/python3.10/site-packages (from pandas) (2023.3.post1)\n",
      "Requirement already satisfied: tzdata>=2022.1 in /Users/chrisliang8/.pyenv/versions/3.10.12/lib/python3.10/site-packages (from pandas) (2023.3)\n",
      "Requirement already satisfied: cycler>=0.10 in /Users/chrisliang8/.pyenv/versions/3.10.12/lib/python3.10/site-packages (from matplotlib) (0.12.1)\n",
      "Requirement already satisfied: pillow>=6.2.0 in /Users/chrisliang8/.pyenv/versions/3.10.12/lib/python3.10/site-packages (from matplotlib) (10.1.0)\n",
      "Requirement already satisfied: pyparsing>=2.3.1 in /Users/chrisliang8/.pyenv/versions/3.10.12/lib/python3.10/site-packages (from matplotlib) (3.1.1)\n",
      "Requirement already satisfied: kiwisolver>=1.0.1 in /Users/chrisliang8/.pyenv/versions/3.10.12/lib/python3.10/site-packages (from matplotlib) (1.4.5)\n",
      "Requirement already satisfied: fonttools>=4.22.0 in /Users/chrisliang8/.pyenv/versions/3.10.12/lib/python3.10/site-packages (from matplotlib) (4.43.1)\n",
      "Requirement already satisfied: packaging>=20.0 in /Users/chrisliang8/.pyenv/versions/3.10.12/lib/python3.10/site-packages (from matplotlib) (23.1)\n",
      "Requirement already satisfied: contourpy>=1.0.1 in /Users/chrisliang8/.pyenv/versions/3.10.12/lib/python3.10/site-packages (from matplotlib) (1.1.1)\n",
      "Requirement already satisfied: patsy>=0.5.2 in /Users/chrisliang8/.pyenv/versions/3.10.12/lib/python3.10/site-packages (from statsmodels) (0.5.3)\n",
      "Requirement already satisfied: scipy!=1.9.2,>=1.4 in /Users/chrisliang8/.pyenv/versions/3.10.12/lib/python3.10/site-packages (from statsmodels) (1.11.3)\n",
      "Requirement already satisfied: lxml in /Users/chrisliang8/.pyenv/versions/3.10.12/lib/python3.10/site-packages (from pandas_datareader) (4.9.3)\n",
      "Requirement already satisfied: requests>=2.19.0 in /Users/chrisliang8/.pyenv/versions/3.10.12/lib/python3.10/site-packages (from pandas_datareader) (2.31.0)\n",
      "Requirement already satisfied: zope.interface in /Users/chrisliang8/.pyenv/versions/3.10.12/lib/python3.10/site-packages (from datetime) (6.1)\n",
      "Requirement already satisfied: beautifulsoup4>=4.11.1 in /Users/chrisliang8/.pyenv/versions/3.10.12/lib/python3.10/site-packages (from yfinance) (4.12.2)\n",
      "Requirement already satisfied: peewee>=3.16.2 in /Users/chrisliang8/.pyenv/versions/3.10.12/lib/python3.10/site-packages (from yfinance) (3.17.0)\n",
      "Requirement already satisfied: appdirs>=1.4.4 in /Users/chrisliang8/.pyenv/versions/3.10.12/lib/python3.10/site-packages (from yfinance) (1.4.4)\n",
      "Requirement already satisfied: frozendict>=2.3.4 in /Users/chrisliang8/.pyenv/versions/3.10.12/lib/python3.10/site-packages (from yfinance) (2.3.8)\n",
      "Requirement already satisfied: multitasking>=0.0.7 in /Users/chrisliang8/.pyenv/versions/3.10.12/lib/python3.10/site-packages (from yfinance) (0.0.11)\n",
      "Requirement already satisfied: html5lib>=1.1 in /Users/chrisliang8/.pyenv/versions/3.10.12/lib/python3.10/site-packages (from yfinance) (1.1)\n",
      "Collecting cvxpy<2.0.0,>=1.1.19\n",
      "  Downloading cvxpy-1.4.1-cp310-cp310-macosx_10_9_x86_64.whl (1.1 MB)\n",
      "\u001b[2K     \u001b[90m━━━━━━━━━━━━━━━━━━━━━━━━━━━━━━━━━━━━━━━━\u001b[0m \u001b[32m1.1/1.1 MB\u001b[0m \u001b[31m7.2 MB/s\u001b[0m eta \u001b[36m0:00:00\u001b[0ma \u001b[36m0:00:01\u001b[0mm\n",
      "\u001b[?25hRequirement already satisfied: soupsieve>1.2 in /Users/chrisliang8/.pyenv/versions/3.10.12/lib/python3.10/site-packages (from beautifulsoup4>=4.11.1->yfinance) (2.5)\n",
      "Collecting clarabel>=0.5.0\n",
      "  Downloading clarabel-0.6.0-cp37-abi3-macosx_10_9_x86_64.macosx_11_0_arm64.macosx_10_9_universal2.whl (987 kB)\n",
      "\u001b[2K     \u001b[90m━━━━━━━━━━━━━━━━━━━━━━━━━━━━━━━━━━━━━━━\u001b[0m \u001b[32m987.4/987.4 kB\u001b[0m \u001b[31m6.9 MB/s\u001b[0m eta \u001b[36m0:00:00\u001b[0ma \u001b[36m0:00:01\u001b[0m\n",
      "\u001b[?25hCollecting pybind11\n",
      "  Downloading pybind11-2.11.1-py3-none-any.whl (227 kB)\n",
      "\u001b[2K     \u001b[90m━━━━━━━━━━━━━━━━━━━━━━━━━━━━━━━━━━━━━━━\u001b[0m \u001b[32m227.7/227.7 kB\u001b[0m \u001b[31m4.6 MB/s\u001b[0m eta \u001b[36m0:00:00\u001b[0m00:01\u001b[0m\n",
      "\u001b[?25hCollecting osqp>=0.6.2\n",
      "  Downloading osqp-0.6.3-cp310-cp310-macosx_10_9_x86_64.whl (252 kB)\n",
      "\u001b[2K     \u001b[90m━━━━━━━━━━━━━━━━━━━━━━━━━━━━━━━━━━━━━━━\u001b[0m \u001b[32m252.6/252.6 kB\u001b[0m \u001b[31m4.9 MB/s\u001b[0m eta \u001b[36m0:00:00\u001b[0ma \u001b[36m0:00:01\u001b[0m\n",
      "\u001b[?25hCollecting ecos>=2\n",
      "  Downloading ecos-2.0.12-cp310-cp310-macosx_10_9_x86_64.whl (90 kB)\n",
      "\u001b[2K     \u001b[90m━━━━━━━━━━━━━━━━━━━━━━━━━━━━━━━━━━━━━━━━\u001b[0m \u001b[32m90.6/90.6 kB\u001b[0m \u001b[31m3.1 MB/s\u001b[0m eta \u001b[36m0:00:00\u001b[0m\n",
      "\u001b[?25hCollecting scs>=3.0\n",
      "  Downloading scs-3.2.3-cp310-cp310-macosx_10_9_x86_64.whl (11.6 MB)\n",
      "\u001b[2K     \u001b[90m━━━━━━━━━━━━━━━━━━━━━━━━━━━━━━━━━━━━━━━━\u001b[0m \u001b[32m11.6/11.6 MB\u001b[0m \u001b[31m8.1 MB/s\u001b[0m eta \u001b[36m0:00:00\u001b[0m00:01\u001b[0m00:01\u001b[0m\n",
      "\u001b[?25hRequirement already satisfied: webencodings in /Users/chrisliang8/.pyenv/versions/3.10.12/lib/python3.10/site-packages (from html5lib>=1.1->yfinance) (0.5.1)\n",
      "Requirement already satisfied: six>=1.9 in /Users/chrisliang8/.pyenv/versions/3.10.12/lib/python3.10/site-packages (from html5lib>=1.1->yfinance) (1.16.0)\n",
      "Requirement already satisfied: certifi>=2017.4.17 in /Users/chrisliang8/.pyenv/versions/3.10.12/lib/python3.10/site-packages (from requests>=2.19.0->pandas_datareader) (2023.7.22)\n",
      "Requirement already satisfied: idna<4,>=2.5 in /Users/chrisliang8/.pyenv/versions/3.10.12/lib/python3.10/site-packages (from requests>=2.19.0->pandas_datareader) (3.4)\n",
      "Requirement already satisfied: urllib3<3,>=1.21.1 in /Users/chrisliang8/.pyenv/versions/3.10.12/lib/python3.10/site-packages (from requests>=2.19.0->pandas_datareader) (2.0.7)\n",
      "Requirement already satisfied: charset-normalizer<4,>=2 in /Users/chrisliang8/.pyenv/versions/3.10.12/lib/python3.10/site-packages (from requests>=2.19.0->pandas_datareader) (3.3.1)\n",
      "Requirement already satisfied: setuptools in /Users/chrisliang8/.pyenv/versions/3.10.12/lib/python3.10/site-packages (from zope.interface->datetime) (65.5.0)\n",
      "Collecting qdldl\n",
      "  Downloading qdldl-0.1.7.post0-cp310-cp310-macosx_10_9_x86_64.whl (105 kB)\n",
      "\u001b[2K     \u001b[90m━━━━━━━━━━━━━━━━━━━━━━━━━━━━━━━━━━━━━━━\u001b[0m \u001b[32m105.2/105.2 kB\u001b[0m \u001b[31m3.1 MB/s\u001b[0m eta \u001b[36m0:00:00\u001b[0m\n",
      "\u001b[?25hInstalling collected packages: pybind11, scs, qdldl, ecos, clarabel, osqp, cvxpy, PyPortfolioOpt\n",
      "Successfully installed PyPortfolioOpt-1.5.5 clarabel-0.6.0 cvxpy-1.4.1 ecos-2.0.12 osqp-0.6.3 pybind11-2.11.1 qdldl-0.1.7.post0 scs-3.2.3\n",
      "\n",
      "\u001b[1m[\u001b[0m\u001b[34;49mnotice\u001b[0m\u001b[1;39;49m]\u001b[0m\u001b[39;49m A new release of pip is available: \u001b[0m\u001b[31;49m23.0.1\u001b[0m\u001b[39;49m -> \u001b[0m\u001b[32;49m23.3.1\u001b[0m\n",
      "\u001b[1m[\u001b[0m\u001b[34;49mnotice\u001b[0m\u001b[1;39;49m]\u001b[0m\u001b[39;49m To update, run: \u001b[0m\u001b[32;49mpip install --upgrade pip\u001b[0m\n"
     ]
    }
   ],
   "source": [
    "!pip install pandas numpy matplotlib statsmodels pandas_datareader datetime yfinance sklearn PyPortfolioOpt\n",
    "\n",
    "\n"
   ]
  },
  {
   "cell_type": "code",
   "execution_count": 6,
   "metadata": {},
   "outputs": [
    {
     "ename": "ModuleNotFoundError",
     "evalue": "No module named 'pandas_ta'",
     "output_type": "error",
     "traceback": [
      "\u001b[0;31m---------------------------------------------------------------------------\u001b[0m",
      "\u001b[0;31mModuleNotFoundError\u001b[0m                       Traceback (most recent call last)",
      "Cell \u001b[0;32mIn[6], line 9\u001b[0m\n\u001b[1;32m      7\u001b[0m \u001b[39mimport\u001b[39;00m \u001b[39mdatetime\u001b[39;00m \u001b[39mas\u001b[39;00m \u001b[39mdt\u001b[39;00m\n\u001b[1;32m      8\u001b[0m \u001b[39mimport\u001b[39;00m \u001b[39myfinance\u001b[39;00m \u001b[39mas\u001b[39;00m \u001b[39myf\u001b[39;00m\n\u001b[0;32m----> 9\u001b[0m \u001b[39mimport\u001b[39;00m \u001b[39mpandas_ta\u001b[39;00m\n\u001b[1;32m     10\u001b[0m \u001b[39mimport\u001b[39;00m \u001b[39mwarnings\u001b[39;00m\n\u001b[1;32m     11\u001b[0m warnings\u001b[39m.\u001b[39mfilterwarnings(\u001b[39m'\u001b[39m\u001b[39mignore\u001b[39m\u001b[39m'\u001b[39m)\n",
      "\u001b[0;31mModuleNotFoundError\u001b[0m: No module named 'pandas_ta'"
     ]
    }
   ],
   "source": [
    "from statsmodels.regression.rolling import RollingOLS\n",
    "import pandas_datareader.data as web\n",
    "import matplotlib.pyplot as plt\n",
    "import statsmodels.api as sm\n",
    "import pandas as pd\n",
    "import numpy as np\n",
    "import datetime as dt\n",
    "import yfinance as yf\n",
    "import pandas_ta\n",
    "import warnings\n",
    "warnings.filterwarnings('ignore')"
   ]
  }
 ],
 "metadata": {
  "kernelspec": {
   "display_name": "Python 3",
   "language": "python",
   "name": "python3"
  },
  "language_info": {
   "codemirror_mode": {
    "name": "ipython",
    "version": 3
   },
   "file_extension": ".py",
   "mimetype": "text/x-python",
   "name": "python",
   "nbconvert_exporter": "python",
   "pygments_lexer": "ipython3",
   "version": "3.10.12"
  },
  "orig_nbformat": 4
 },
 "nbformat": 4,
 "nbformat_minor": 2
}
